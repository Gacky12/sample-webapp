{
 "cells": [
  {
   "cell_type": "code",
   "execution_count": 1,
   "id": "6cdb46a4-253c-4843-ac80-1b3ec19b2623",
   "metadata": {},
   "outputs": [
    {
     "name": "stdout",
     "output_type": "stream",
     "text": [
      "Requirement already satisfied: sqlalchemy in /Volumes/Extreme SSD/Documents/SAMURAI_TERAKOYA/自然言語処理/myvenv/lib/python3.12/site-packages (2.0.31)\n",
      "Requirement already satisfied: typing-extensions>=4.6.0 in /Volumes/Extreme SSD/Documents/SAMURAI_TERAKOYA/自然言語処理/myvenv/lib/python3.12/site-packages (from sqlalchemy) (4.12.2)\n",
      "\n",
      "\u001b[1m[\u001b[0m\u001b[34;49mnotice\u001b[0m\u001b[1;39;49m]\u001b[0m\u001b[39;49m A new release of pip is available: \u001b[0m\u001b[31;49m24.0\u001b[0m\u001b[39;49m -> \u001b[0m\u001b[32;49m24.2\u001b[0m\n",
      "\u001b[1m[\u001b[0m\u001b[34;49mnotice\u001b[0m\u001b[1;39;49m]\u001b[0m\u001b[39;49m To update, run: \u001b[0m\u001b[32;49m/Volumes/Extreme SSD/Documents/SAMURAI_TERAKOYA/自然言語処理/myvenv/bin/python3 -m pip install --upgrade pip\u001b[0m\n",
      "Note: you may need to restart the kernel to use updated packages.\n"
     ]
    }
   ],
   "source": [
    "pip install sqlalchemy"
   ]
  },
  {
   "cell_type": "code",
   "execution_count": 2,
   "id": "5260ee31-1dc2-4383-ab0e-f77bb06b0042",
   "metadata": {},
   "outputs": [],
   "source": [
    "from assets.database import db_session\n",
    "from assets.database import init_db\n",
    "from assets.models import Data\n",
    "\n",
    "import datetime"
   ]
  },
  {
   "cell_type": "code",
   "execution_count": 3,
   "id": "2655bae4-c749-4198-8691-35d5e63a5be5",
   "metadata": {},
   "outputs": [
    {
     "name": "stdout",
     "output_type": "stream",
     "text": [
      "2024-07-30 23:14:44,440 INFO sqlalchemy.engine.Engine BEGIN (implicit)\n",
      "2024-07-30 23:14:44,442 INFO sqlalchemy.engine.Engine PRAGMA main.table_info(\"data\")\n",
      "2024-07-30 23:14:44,443 INFO sqlalchemy.engine.Engine [raw sql] ()\n",
      "2024-07-30 23:14:44,444 INFO sqlalchemy.engine.Engine PRAGMA temp.table_info(\"data\")\n",
      "2024-07-30 23:14:44,445 INFO sqlalchemy.engine.Engine [raw sql] ()\n",
      "2024-07-30 23:14:44,446 INFO sqlalchemy.engine.Engine \n",
      "CREATE TABLE data (\n",
      "\tid INTEGER NOT NULL, \n",
      "\tdate DATE, \n",
      "\tsubscribers INTEGER, \n",
      "\treviews INTEGER, \n",
      "\ttimestamp DATETIME, \n",
      "\tPRIMARY KEY (id)\n",
      ")\n",
      "\n",
      "\n",
      "2024-07-30 23:14:44,447 INFO sqlalchemy.engine.Engine [no key 0.00031s] ()\n",
      "2024-07-30 23:14:44,451 INFO sqlalchemy.engine.Engine COMMIT\n"
     ]
    }
   ],
   "source": [
    "init_db()"
   ]
  },
  {
   "cell_type": "code",
   "execution_count": null,
   "id": "cbeb13e3-234d-475b-9c5d-7d847a93eeb4",
   "metadata": {},
   "outputs": [],
   "source": [
    "## Create"
   ]
  },
  {
   "cell_type": "code",
   "execution_count": 4,
   "id": "8a0d5d4a-7ad7-4004-bcca-ac6dd6f06f24",
   "metadata": {},
   "outputs": [
    {
     "data": {
      "text/plain": [
       "datetime.date(2024, 7, 30)"
      ]
     },
     "execution_count": 4,
     "metadata": {},
     "output_type": "execute_result"
    }
   ],
   "source": [
    "date = datetime.date.today()\n",
    "date"
   ]
  },
  {
   "cell_type": "code",
   "execution_count": 6,
   "id": "09a2b659-e22f-4f32-a17f-3610cb6e0227",
   "metadata": {},
   "outputs": [],
   "source": [
    "row = Data(date=date, subscribers=3500, reviews=200)"
   ]
  },
  {
   "cell_type": "code",
   "execution_count": 7,
   "id": "bd2a7c0a-945a-4310-ae2f-295ca4b80896",
   "metadata": {},
   "outputs": [
    {
     "data": {
      "text/plain": [
       "<assets.models.Data at 0x106ee5f40>"
      ]
     },
     "execution_count": 7,
     "metadata": {},
     "output_type": "execute_result"
    }
   ],
   "source": [
    "row"
   ]
  },
  {
   "cell_type": "code",
   "execution_count": 8,
   "id": "432271ad-efd5-4b9f-8b66-d2cd340f4377",
   "metadata": {},
   "outputs": [
    {
     "data": {
      "text/plain": [
       "datetime.date(2024, 7, 30)"
      ]
     },
     "execution_count": 8,
     "metadata": {},
     "output_type": "execute_result"
    }
   ],
   "source": [
    "row.date"
   ]
  },
  {
   "cell_type": "code",
   "execution_count": 9,
   "id": "ec97d4c3-48cf-43d2-bce7-554ce5f27f09",
   "metadata": {},
   "outputs": [
    {
     "data": {
      "text/plain": [
       "3500"
      ]
     },
     "execution_count": 9,
     "metadata": {},
     "output_type": "execute_result"
    }
   ],
   "source": [
    "row.subscribers"
   ]
  },
  {
   "cell_type": "code",
   "execution_count": 10,
   "id": "12e741f5-ef12-4cbc-815a-1e324634d50c",
   "metadata": {},
   "outputs": [
    {
     "data": {
      "text/plain": [
       "200"
      ]
     },
     "execution_count": 10,
     "metadata": {},
     "output_type": "execute_result"
    }
   ],
   "source": [
    "row.reviews"
   ]
  },
  {
   "cell_type": "code",
   "execution_count": 11,
   "id": "e85e2f6e-3252-4744-a678-d2be87657c7c",
   "metadata": {},
   "outputs": [],
   "source": [
    "db_session.add(row)"
   ]
  },
  {
   "cell_type": "code",
   "execution_count": 12,
   "id": "e9e74f49-78b8-4256-b21f-b79464666fca",
   "metadata": {},
   "outputs": [
    {
     "name": "stdout",
     "output_type": "stream",
     "text": [
      "2024-07-30 23:22:17,435 INFO sqlalchemy.engine.Engine BEGIN (implicit)\n",
      "2024-07-30 23:22:17,443 INFO sqlalchemy.engine.Engine INSERT INTO data (date, subscribers, reviews, timestamp) VALUES (?, ?, ?, ?)\n",
      "2024-07-30 23:22:17,445 INFO sqlalchemy.engine.Engine [generated in 0.00238s] ('2024-07-30', 3500, 200, '2024-07-30 23:14:33.028116')\n",
      "2024-07-30 23:22:17,448 INFO sqlalchemy.engine.Engine COMMIT\n"
     ]
    }
   ],
   "source": [
    "db_session.commit()"
   ]
  },
  {
   "cell_type": "code",
   "execution_count": 13,
   "id": "0e474234-9509-478c-803c-04d7ec62956c",
   "metadata": {},
   "outputs": [],
   "source": [
    "row1 = Data(date=date, subscribers=6500, reviews=210)\n",
    "row2 = Data(date=date, subscribers=1500, reviews=220)"
   ]
  },
  {
   "cell_type": "code",
   "execution_count": 15,
   "id": "bae420b4-5d7c-4324-920a-c8ee55d27f61",
   "metadata": {},
   "outputs": [],
   "source": [
    "db_session.add(row1)\n",
    "db_session.add(row2)"
   ]
  },
  {
   "cell_type": "code",
   "execution_count": 16,
   "id": "d868b88d-3d08-4525-821c-d3c3425f1c41",
   "metadata": {},
   "outputs": [
    {
     "name": "stdout",
     "output_type": "stream",
     "text": [
      "2024-07-30 23:30:51,334 INFO sqlalchemy.engine.Engine BEGIN (implicit)\n",
      "2024-07-30 23:30:51,341 INFO sqlalchemy.engine.Engine INSERT INTO data (date, subscribers, reviews, timestamp) VALUES (?, ?, ?, ?) RETURNING id\n",
      "2024-07-30 23:30:51,342 INFO sqlalchemy.engine.Engine [generated in 0.00044s (insertmanyvalues) 1/2 (ordered; batch not supported)] ('2024-07-30', 6500, 210, '2024-07-30 23:14:33.028116')\n",
      "2024-07-30 23:30:51,345 INFO sqlalchemy.engine.Engine INSERT INTO data (date, subscribers, reviews, timestamp) VALUES (?, ?, ?, ?) RETURNING id\n",
      "2024-07-30 23:30:51,345 INFO sqlalchemy.engine.Engine [insertmanyvalues 2/2 (ordered; batch not supported)] ('2024-07-30', 1500, 220, '2024-07-30 23:14:33.028116')\n",
      "2024-07-30 23:30:51,347 INFO sqlalchemy.engine.Engine COMMIT\n"
     ]
    }
   ],
   "source": [
    "db_session.commit()"
   ]
  },
  {
   "cell_type": "code",
   "execution_count": 17,
   "id": "e5fbd264-1d7c-4675-ae31-d1bf15fd313b",
   "metadata": {},
   "outputs": [],
   "source": [
    "## Read"
   ]
  },
  {
   "cell_type": "code",
   "execution_count": 19,
   "id": "39909b04-a549-409f-aa0a-954970f82536",
   "metadata": {},
   "outputs": [
    {
     "name": "stdout",
     "output_type": "stream",
     "text": [
      "2024-07-30 23:33:22,890 INFO sqlalchemy.engine.Engine BEGIN (implicit)\n",
      "2024-07-30 23:33:22,894 INFO sqlalchemy.engine.Engine SELECT data.id AS data_id, data.date AS data_date, data.subscribers AS data_subscribers, data.reviews AS data_reviews, data.timestamp AS data_timestamp \n",
      "FROM data\n",
      "2024-07-30 23:33:22,895 INFO sqlalchemy.engine.Engine [generated in 0.00117s] ()\n"
     ]
    },
    {
     "data": {
      "text/plain": [
       "[<assets.models.Data at 0x106ee5f40>,\n",
       " <assets.models.Data at 0x118e49d00>,\n",
       " <assets.models.Data at 0x118e4a240>]"
      ]
     },
     "execution_count": 19,
     "metadata": {},
     "output_type": "execute_result"
    }
   ],
   "source": [
    "db_session.query(Data).all()"
   ]
  },
  {
   "cell_type": "code",
   "execution_count": 24,
   "id": "c76ded9d-755e-4905-b84d-2be665358644",
   "metadata": {},
   "outputs": [
    {
     "name": "stdout",
     "output_type": "stream",
     "text": [
      "2024-07-30 23:34:58,315 INFO sqlalchemy.engine.Engine SELECT data.id AS data_id, data.date AS data_date, data.subscribers AS data_subscribers, data.reviews AS data_reviews, data.timestamp AS data_timestamp \n",
      "FROM data\n",
      "2024-07-30 23:34:58,317 INFO sqlalchemy.engine.Engine [cached since 95.42s ago] ()\n"
     ]
    },
    {
     "data": {
      "text/plain": [
       "3500"
      ]
     },
     "execution_count": 24,
     "metadata": {},
     "output_type": "execute_result"
    }
   ],
   "source": [
    "db_session.query(Data).all()[0].subscribers"
   ]
  },
  {
   "cell_type": "code",
   "execution_count": 25,
   "id": "e9b00cfd-c45d-4e93-b378-67ee9cb6dede",
   "metadata": {},
   "outputs": [],
   "source": [
    "## Update"
   ]
  },
  {
   "cell_type": "code",
   "execution_count": 27,
   "id": "81b1a37b-6e47-479a-98e8-2d591bbc9a3b",
   "metadata": {},
   "outputs": [
    {
     "name": "stdout",
     "output_type": "stream",
     "text": [
      "2024-07-30 23:35:53,574 INFO sqlalchemy.engine.Engine SELECT data.id AS data_id, data.date AS data_date, data.subscribers AS data_subscribers, data.reviews AS data_reviews, data.timestamp AS data_timestamp \n",
      "FROM data\n",
      "2024-07-30 23:35:53,575 INFO sqlalchemy.engine.Engine [cached since 150.7s ago] ()\n"
     ]
    },
    {
     "data": {
      "text/plain": [
       "<assets.models.Data at 0x106ee5f40>"
      ]
     },
     "execution_count": 27,
     "metadata": {},
     "output_type": "execute_result"
    }
   ],
   "source": [
    "datum = db_session.query(Data).all()[0]\n",
    "datum"
   ]
  },
  {
   "cell_type": "code",
   "execution_count": 29,
   "id": "9652a926-db0e-496b-9219-f5b3a7d1c660",
   "metadata": {},
   "outputs": [],
   "source": [
    "datum.subscribers = 10000"
   ]
  },
  {
   "cell_type": "code",
   "execution_count": 30,
   "id": "3ab331a3-ac95-4574-ba24-246b763c07fe",
   "metadata": {},
   "outputs": [
    {
     "name": "stdout",
     "output_type": "stream",
     "text": [
      "2024-07-30 23:38:34,974 INFO sqlalchemy.engine.Engine UPDATE data SET subscribers=? WHERE data.id = ?\n",
      "2024-07-30 23:38:34,975 INFO sqlalchemy.engine.Engine [generated in 0.00207s] (10000, 1)\n",
      "2024-07-30 23:38:34,980 INFO sqlalchemy.engine.Engine COMMIT\n"
     ]
    }
   ],
   "source": [
    "db_session.add(datum)\n",
    "db_session.commit()"
   ]
  },
  {
   "cell_type": "code",
   "execution_count": 31,
   "id": "6d28e685-616f-45c8-83a6-e82e510c21e3",
   "metadata": {},
   "outputs": [
    {
     "name": "stdout",
     "output_type": "stream",
     "text": [
      "2024-07-30 23:39:38,760 INFO sqlalchemy.engine.Engine BEGIN (implicit)\n",
      "2024-07-30 23:39:38,762 INFO sqlalchemy.engine.Engine SELECT data.id AS data_id, data.date AS data_date, data.subscribers AS data_subscribers, data.reviews AS data_reviews, data.timestamp AS data_timestamp \n",
      "FROM data\n",
      "2024-07-30 23:39:38,763 INFO sqlalchemy.engine.Engine [cached since 375.9s ago] ()\n"
     ]
    },
    {
     "data": {
      "text/plain": [
       "10000"
      ]
     },
     "execution_count": 31,
     "metadata": {},
     "output_type": "execute_result"
    }
   ],
   "source": [
    "db_session.query(Data).all()[0].subscribers"
   ]
  },
  {
   "cell_type": "code",
   "execution_count": 32,
   "id": "2c2cd71c-b660-48b9-9019-f6f634cb7333",
   "metadata": {},
   "outputs": [],
   "source": [
    "## Delete"
   ]
  },
  {
   "cell_type": "code",
   "execution_count": 34,
   "id": "33e8a1cd-ebe5-4523-969c-99060e6dd4a7",
   "metadata": {},
   "outputs": [
    {
     "name": "stdout",
     "output_type": "stream",
     "text": [
      "2024-07-30 23:41:06,551 INFO sqlalchemy.engine.Engine SELECT data.id AS data_id, data.date AS data_date, data.subscribers AS data_subscribers, data.reviews AS data_reviews, data.timestamp AS data_timestamp \n",
      "FROM data \n",
      "WHERE data.subscribers = ?\n",
      "2024-07-30 23:41:06,552 INFO sqlalchemy.engine.Engine [cached since 15.93s ago] (10000,)\n"
     ]
    }
   ],
   "source": [
    "datum = db_session.query(Data).filter_by(subscribers=10000).one()"
   ]
  },
  {
   "cell_type": "code",
   "execution_count": 35,
   "id": "f1ec6484-b795-4dd3-a341-9e94d694c014",
   "metadata": {},
   "outputs": [
    {
     "data": {
      "text/plain": [
       "10000"
      ]
     },
     "execution_count": 35,
     "metadata": {},
     "output_type": "execute_result"
    }
   ],
   "source": [
    "datum.subscribers"
   ]
  },
  {
   "cell_type": "code",
   "execution_count": 36,
   "id": "fcc57bba-5e00-4c4d-9d76-8f96ac0cd6ec",
   "metadata": {},
   "outputs": [
    {
     "name": "stdout",
     "output_type": "stream",
     "text": [
      "2024-07-30 23:41:40,181 INFO sqlalchemy.engine.Engine DELETE FROM data WHERE data.id = ?\n",
      "2024-07-30 23:41:40,182 INFO sqlalchemy.engine.Engine [generated in 0.00205s] (1,)\n",
      "2024-07-30 23:41:40,185 INFO sqlalchemy.engine.Engine COMMIT\n"
     ]
    }
   ],
   "source": [
    "db_session.delete(datum)\n",
    "db_session.commit()"
   ]
  },
  {
   "cell_type": "code",
   "execution_count": 38,
   "id": "723c6e8a-f8a8-416d-a5a7-1c21414ec340",
   "metadata": {},
   "outputs": [
    {
     "name": "stdout",
     "output_type": "stream",
     "text": [
      "2024-07-30 23:42:28,774 INFO sqlalchemy.engine.Engine SELECT data.id AS data_id, data.date AS data_date, data.subscribers AS data_subscribers, data.reviews AS data_reviews, data.timestamp AS data_timestamp \n",
      "FROM data\n",
      "2024-07-30 23:42:28,776 INFO sqlalchemy.engine.Engine [cached since 545.9s ago] ()\n"
     ]
    },
    {
     "data": {
      "text/plain": [
       "2"
      ]
     },
     "execution_count": 38,
     "metadata": {},
     "output_type": "execute_result"
    }
   ],
   "source": [
    "len(db_session.query(Data).all())"
   ]
  },
  {
   "cell_type": "code",
   "execution_count": 39,
   "id": "f5efa23d-6783-4a59-ab36-ce94d2a8b02f",
   "metadata": {},
   "outputs": [
    {
     "name": "stdout",
     "output_type": "stream",
     "text": [
      "2024-07-30 23:43:12,511 INFO sqlalchemy.engine.Engine DELETE FROM data\n",
      "2024-07-30 23:43:12,513 INFO sqlalchemy.engine.Engine [generated in 0.00225s] ()\n"
     ]
    },
    {
     "data": {
      "text/plain": [
       "2"
      ]
     },
     "execution_count": 39,
     "metadata": {},
     "output_type": "execute_result"
    }
   ],
   "source": [
    "Data.query.delete()"
   ]
  },
  {
   "cell_type": "code",
   "execution_count": null,
   "id": "51dea3f6-bdf9-4833-a86e-56c1996d9888",
   "metadata": {},
   "outputs": [],
   "source": []
  }
 ],
 "metadata": {
  "kernelspec": {
   "display_name": "myvenv",
   "language": "python",
   "name": "myvenv"
  },
  "language_info": {
   "codemirror_mode": {
    "name": "ipython",
    "version": 3
   },
   "file_extension": ".py",
   "mimetype": "text/x-python",
   "name": "python",
   "nbconvert_exporter": "python",
   "pygments_lexer": "ipython3",
   "version": "3.12.2"
  }
 },
 "nbformat": 4,
 "nbformat_minor": 5
}
