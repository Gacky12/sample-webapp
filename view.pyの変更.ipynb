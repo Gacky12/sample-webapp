{
 "cells": [
  {
   "cell_type": "code",
   "execution_count": 18,
   "id": "47e75983-e29d-41bb-b459-1754405faa27",
   "metadata": {},
   "outputs": [],
   "source": [
    "from assets.database import db_session\n",
    "from assets.models import Data\n",
    "import pandas as pd"
   ]
  },
  {
   "cell_type": "code",
   "execution_count": 19,
   "id": "c20fa84c-4d5b-4318-b823-59e558f88bb9",
   "metadata": {},
   "outputs": [
    {
     "name": "stdout",
     "output_type": "stream",
     "text": [
      "2024-08-01 06:13:36,987 INFO sqlalchemy.engine.Engine SELECT data.date AS data_date, data.subscribers AS data_subscribers, data.reviews AS data_reviews \n",
      "FROM data\n",
      "2024-08-01 06:13:36,989 INFO sqlalchemy.engine.Engine [cached since 1626s ago] ()\n"
     ]
    }
   ],
   "source": [
    "data = db_session.query(Data.date, Data.subscribers, Data.reviews).all()"
   ]
  },
  {
   "cell_type": "code",
   "execution_count": 23,
   "id": "3528a864-8e06-490f-bf49-b21013dcfee4",
   "metadata": {},
   "outputs": [],
   "source": [
    "# data"
   ]
  },
  {
   "cell_type": "code",
   "execution_count": 24,
   "id": "e9d791de-0c5b-4327-916a-3d55a0bd032b",
   "metadata": {},
   "outputs": [],
   "source": [
    "dates = []\n",
    "subscribers = []\n",
    "reviews = []\n",
    "\n",
    "for datum in data:\n",
    "    dates.append(datum.date)\n",
    "    subscribers.append(datum.subscribers)\n",
    "    reviews.append(datum.reviews)"
   ]
  },
  {
   "cell_type": "code",
   "execution_count": 31,
   "id": "094ab291-edb3-4b4f-99c9-e10d822e1e7b",
   "metadata": {},
   "outputs": [],
   "source": [
    "diff_subscribers = pd.Series(subscribers).diff().values"
   ]
  },
  {
   "cell_type": "code",
   "execution_count": 35,
   "id": "8264fd45-2303-4677-a61d-e9ed39312145",
   "metadata": {},
   "outputs": [],
   "source": [
    "diff_reviews = pd.Series(reviews).diff().values"
   ]
  },
  {
   "cell_type": "code",
   "execution_count": null,
   "id": "86de35d4-10fd-4c96-8be5-cb1b7cd6b277",
   "metadata": {},
   "outputs": [],
   "source": [
    "data = db_session.query(Data.date, Data.subscribers, Data.reviews).all()\n",
    "\n",
    "dates = []\n",
    "subscribers = []\n",
    "reviews = []\n",
    "\n",
    "for datum in data:\n",
    "    dates.append(datum.date)\n",
    "    subscribers.append(datum.subscribers)\n",
    "    reviews.append(datum.reviews)\n",
    "\n",
    "diff_subscribers = pd.Series(subscribers).diff().values\n",
    "diff_reviews = pd.Series(reviews).diff().values"
   ]
  },
  {
   "cell_type": "code",
   "execution_count": null,
   "id": "570e4edc-4a47-4883-8d97-1bcf41221cc3",
   "metadata": {},
   "outputs": [],
   "source": []
  },
  {
   "cell_type": "code",
   "execution_count": null,
   "id": "b7cdeace-9c55-4c9b-909d-802e9a25bf5a",
   "metadata": {},
   "outputs": [],
   "source": []
  },
  {
   "cell_type": "code",
   "execution_count": null,
   "id": "e7c2f9ad-b3e6-453e-868e-426c5bbb19b4",
   "metadata": {},
   "outputs": [],
   "source": []
  }
 ],
 "metadata": {
  "kernelspec": {
   "display_name": "myvenv",
   "language": "python",
   "name": "myvenv"
  },
  "language_info": {
   "codemirror_mode": {
    "name": "ipython",
    "version": 3
   },
   "file_extension": ".py",
   "mimetype": "text/x-python",
   "name": "python",
   "nbconvert_exporter": "python",
   "pygments_lexer": "ipython3",
   "version": "3.12.2"
  }
 },
 "nbformat": 4,
 "nbformat_minor": 5
}
