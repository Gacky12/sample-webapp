{
 "cells": [
  {
   "cell_type": "code",
   "execution_count": 1,
   "id": "75e90b42",
   "metadata": {},
   "outputs": [],
   "source": [
    "from bs4 import BeautifulSoup\n",
    "import requests"
   ]
  },
  {
   "cell_type": "code",
   "execution_count": 2,
   "id": "44914cb6-7980-4d37-914d-d803110b7839",
   "metadata": {},
   "outputs": [],
   "source": [
    "url = 'https://scraping-for-beginner.herokuapp.com/udemy'"
   ]
  },
  {
   "cell_type": "code",
   "execution_count": 3,
   "id": "ad9bf709-54e8-4bd3-82a1-99f5a29c1919",
   "metadata": {},
   "outputs": [],
   "source": [
    "r = requests.get(url)"
   ]
  },
  {
   "cell_type": "code",
   "execution_count": 5,
   "id": "b9744194-2061-4019-9909-dfeeb3fb0211",
   "metadata": {},
   "outputs": [],
   "source": [
    "soup = BeautifulSoup(r.text, 'html.parser')"
   ]
  },
  {
   "cell_type": "code",
   "execution_count": 7,
   "id": "b341c20d-4aaf-46fd-b2b9-64075fac70a5",
   "metadata": {},
   "outputs": [],
   "source": [
    "# soup"
   ]
  },
  {
   "cell_type": "code",
   "execution_count": 12,
   "id": "9ebfa6e9-7f90-4538-a75c-1cd45e56234d",
   "metadata": {},
   "outputs": [
    {
     "data": {
      "text/plain": [
       "'いまにゅ'"
      ]
     },
     "execution_count": 12,
     "metadata": {},
     "output_type": "execute_result"
    }
   ],
   "source": [
    "name = soup.select('.card-title')[0].string\n",
    "name"
   ]
  },
  {
   "cell_type": "code",
   "execution_count": 27,
   "id": "8a812c43-f2fe-41f1-aed0-89f2aba7f0d3",
   "metadata": {},
   "outputs": [
    {
     "data": {
      "text/plain": [
       "'受講生の数：22365'"
      ]
     },
     "execution_count": 27,
     "metadata": {},
     "output_type": "execute_result"
    }
   ],
   "source": [
    "n_subscribers = soup.select('.subscribers')[0].string\n",
    "n_subscribers"
   ]
  },
  {
   "cell_type": "code",
   "execution_count": 39,
   "id": "fc157a06-a03a-4e73-a1ef-bb4cd9520757",
   "metadata": {},
   "outputs": [],
   "source": [
    "n_subscribers = int(n_subscribers.split('：')[1])"
   ]
  },
  {
   "cell_type": "code",
   "execution_count": 40,
   "id": "07232e55-a6f4-4e08-9d48-75fbfc030f93",
   "metadata": {},
   "outputs": [
    {
     "data": {
      "text/plain": [
       "'レビューの数：3738'"
      ]
     },
     "execution_count": 40,
     "metadata": {},
     "output_type": "execute_result"
    }
   ],
   "source": [
    "n_reviews = soup.select('.reviews')[0].string\n",
    "n_reviews"
   ]
  },
  {
   "cell_type": "code",
   "execution_count": 41,
   "id": "919cbccb-e7c3-4c54-b18e-880e22cf0aed",
   "metadata": {},
   "outputs": [],
   "source": [
    "n_reviews = int(n_reviews.split('：')[1])"
   ]
  },
  {
   "cell_type": "code",
   "execution_count": 42,
   "id": "197b0ff5-47d2-4f96-9d5e-eb6fb1783e02",
   "metadata": {},
   "outputs": [],
   "source": [
    "results = {\n",
    "    'name': name,\n",
    "    'n_subscribers': n_subscribers,\n",
    "    'n_reviews': n_reviews\n",
    "}"
   ]
  },
  {
   "cell_type": "code",
   "execution_count": 43,
   "id": "bd505924-7cbe-477d-8c04-846cb8d632be",
   "metadata": {},
   "outputs": [
    {
     "data": {
      "text/plain": [
       "{'name': 'いまにゅ', 'n_subscribers': 22365, 'n_reviews': 3738}"
      ]
     },
     "execution_count": 43,
     "metadata": {},
     "output_type": "execute_result"
    }
   ],
   "source": [
    "results"
   ]
  },
  {
   "cell_type": "code",
   "execution_count": 44,
   "id": "c637b90d-4d33-436e-9745-2fe087e77fbb",
   "metadata": {},
   "outputs": [],
   "source": [
    "import pandas as pd"
   ]
  },
  {
   "cell_type": "code",
   "execution_count": 45,
   "id": "cc3e8a5c-f0bd-4989-9cdb-234156e70cf4",
   "metadata": {},
   "outputs": [],
   "source": [
    "df = pd.read_csv('asetts/data.csv')"
   ]
  },
  {
   "cell_type": "code",
   "execution_count": 46,
   "id": "be6142b5-0ea5-4c24-839e-ab17bd7b4ad7",
   "metadata": {},
   "outputs": [
    {
     "data": {
      "text/html": [
       "<div>\n",
       "<style scoped>\n",
       "    .dataframe tbody tr th:only-of-type {\n",
       "        vertical-align: middle;\n",
       "    }\n",
       "\n",
       "    .dataframe tbody tr th {\n",
       "        vertical-align: top;\n",
       "    }\n",
       "\n",
       "    .dataframe thead th {\n",
       "        text-align: right;\n",
       "    }\n",
       "</style>\n",
       "<table border=\"1\" class=\"dataframe\">\n",
       "  <thead>\n",
       "    <tr style=\"text-align: right;\">\n",
       "      <th></th>\n",
       "      <th>date</th>\n",
       "      <th>subscribers</th>\n",
       "      <th>reviews</th>\n",
       "    </tr>\n",
       "  </thead>\n",
       "  <tbody>\n",
       "    <tr>\n",
       "      <th>0</th>\n",
       "      <td>2019/1/17</td>\n",
       "      <td>2671</td>\n",
       "      <td>194</td>\n",
       "    </tr>\n",
       "    <tr>\n",
       "      <th>1</th>\n",
       "      <td>2019/1/18</td>\n",
       "      <td>2671</td>\n",
       "      <td>195</td>\n",
       "    </tr>\n",
       "    <tr>\n",
       "      <th>2</th>\n",
       "      <td>2019/1/19</td>\n",
       "      <td>2674</td>\n",
       "      <td>197</td>\n",
       "    </tr>\n",
       "    <tr>\n",
       "      <th>3</th>\n",
       "      <td>2019/1/20</td>\n",
       "      <td>2685</td>\n",
       "      <td>199</td>\n",
       "    </tr>\n",
       "    <tr>\n",
       "      <th>4</th>\n",
       "      <td>2019/1/21</td>\n",
       "      <td>2695</td>\n",
       "      <td>199</td>\n",
       "    </tr>\n",
       "  </tbody>\n",
       "</table>\n",
       "</div>"
      ],
      "text/plain": [
       "        date  subscribers  reviews\n",
       "0  2019/1/17         2671      194\n",
       "1  2019/1/18         2671      195\n",
       "2  2019/1/19         2674      197\n",
       "3  2019/1/20         2685      199\n",
       "4  2019/1/21         2695      199"
      ]
     },
     "execution_count": 46,
     "metadata": {},
     "output_type": "execute_result"
    }
   ],
   "source": [
    "df.head()"
   ]
  },
  {
   "cell_type": "code",
   "execution_count": 47,
   "id": "8681951e-c666-4daa-a4f7-0b56b2ed7a87",
   "metadata": {},
   "outputs": [
    {
     "data": {
      "text/html": [
       "<div>\n",
       "<style scoped>\n",
       "    .dataframe tbody tr th:only-of-type {\n",
       "        vertical-align: middle;\n",
       "    }\n",
       "\n",
       "    .dataframe tbody tr th {\n",
       "        vertical-align: top;\n",
       "    }\n",
       "\n",
       "    .dataframe thead th {\n",
       "        text-align: right;\n",
       "    }\n",
       "</style>\n",
       "<table border=\"1\" class=\"dataframe\">\n",
       "  <thead>\n",
       "    <tr style=\"text-align: right;\">\n",
       "      <th></th>\n",
       "      <th>date</th>\n",
       "      <th>subscribers</th>\n",
       "      <th>reviews</th>\n",
       "    </tr>\n",
       "  </thead>\n",
       "  <tbody>\n",
       "    <tr>\n",
       "      <th>751</th>\n",
       "      <td>2021/2/5</td>\n",
       "      <td>10753</td>\n",
       "      <td>1820</td>\n",
       "    </tr>\n",
       "    <tr>\n",
       "      <th>752</th>\n",
       "      <td>2021/2/6</td>\n",
       "      <td>10753</td>\n",
       "      <td>1824</td>\n",
       "    </tr>\n",
       "    <tr>\n",
       "      <th>753</th>\n",
       "      <td>2021/2/7</td>\n",
       "      <td>10756</td>\n",
       "      <td>1824</td>\n",
       "    </tr>\n",
       "    <tr>\n",
       "      <th>754</th>\n",
       "      <td>2021/2/8</td>\n",
       "      <td>10776</td>\n",
       "      <td>1826</td>\n",
       "    </tr>\n",
       "    <tr>\n",
       "      <th>755</th>\n",
       "      <td>2021/2/9</td>\n",
       "      <td>10796</td>\n",
       "      <td>1831</td>\n",
       "    </tr>\n",
       "  </tbody>\n",
       "</table>\n",
       "</div>"
      ],
      "text/plain": [
       "         date  subscribers  reviews\n",
       "751  2021/2/5        10753     1820\n",
       "752  2021/2/6        10753     1824\n",
       "753  2021/2/7        10756     1824\n",
       "754  2021/2/8        10776     1826\n",
       "755  2021/2/9        10796     1831"
      ]
     },
     "execution_count": 47,
     "metadata": {},
     "output_type": "execute_result"
    }
   ],
   "source": [
    "df.tail()"
   ]
  },
  {
   "cell_type": "code",
   "execution_count": 48,
   "id": "d49a734a-75f3-4d39-af9b-4a3ddfc20f5c",
   "metadata": {},
   "outputs": [],
   "source": [
    "import datetime"
   ]
  },
  {
   "cell_type": "code",
   "execution_count": 51,
   "id": "4f180d99-59f4-4431-8965-f27675f8ab07",
   "metadata": {},
   "outputs": [
    {
     "data": {
      "text/plain": [
       "'2024/7/27'"
      ]
     },
     "execution_count": 51,
     "metadata": {},
     "output_type": "execute_result"
    }
   ],
   "source": [
    "date = datetime.datetime.today().strftime('%Y/%-m/%-d')\n",
    "date"
   ]
  },
  {
   "cell_type": "code",
   "execution_count": 52,
   "id": "03dd9160-bba9-4c93-906b-81b0844882d1",
   "metadata": {},
   "outputs": [],
   "source": [
    "subscribers = results['n_subscribers']\n",
    "reviews = results['n_reviews']"
   ]
  },
  {
   "cell_type": "code",
   "execution_count": 53,
   "id": "5f88f5b0-170d-471d-a7e8-a17489aa04b0",
   "metadata": {},
   "outputs": [
    {
     "data": {
      "text/plain": [
       "22365"
      ]
     },
     "execution_count": 53,
     "metadata": {},
     "output_type": "execute_result"
    }
   ],
   "source": [
    "subscribers"
   ]
  },
  {
   "cell_type": "code",
   "execution_count": 54,
   "id": "d6af4ea6-9143-4a02-8a9d-7e6f2e81b56f",
   "metadata": {},
   "outputs": [
    {
     "data": {
      "text/plain": [
       "3738"
      ]
     },
     "execution_count": 54,
     "metadata": {},
     "output_type": "execute_result"
    }
   ],
   "source": [
    "reviews"
   ]
  },
  {
   "cell_type": "code",
   "execution_count": 56,
   "id": "30269339-3e0e-4c6b-8c74-010d3aad95f1",
   "metadata": {},
   "outputs": [
    {
     "data": {
      "text/html": [
       "<div>\n",
       "<style scoped>\n",
       "    .dataframe tbody tr th:only-of-type {\n",
       "        vertical-align: middle;\n",
       "    }\n",
       "\n",
       "    .dataframe tbody tr th {\n",
       "        vertical-align: top;\n",
       "    }\n",
       "\n",
       "    .dataframe thead th {\n",
       "        text-align: right;\n",
       "    }\n",
       "</style>\n",
       "<table border=\"1\" class=\"dataframe\">\n",
       "  <thead>\n",
       "    <tr style=\"text-align: right;\">\n",
       "      <th></th>\n",
       "      <th>date</th>\n",
       "      <th>subscribers</th>\n",
       "      <th>reviews</th>\n",
       "    </tr>\n",
       "  </thead>\n",
       "  <tbody>\n",
       "    <tr>\n",
       "      <th>0</th>\n",
       "      <td>2024/7/27</td>\n",
       "      <td>22365</td>\n",
       "      <td>3738</td>\n",
       "    </tr>\n",
       "  </tbody>\n",
       "</table>\n",
       "</div>"
      ],
      "text/plain": [
       "        date  subscribers  reviews\n",
       "0  2024/7/27        22365     3738"
      ]
     },
     "execution_count": 56,
     "metadata": {},
     "output_type": "execute_result"
    }
   ],
   "source": [
    "results = pd.DataFrame([[date, subscribers, reviews]], columns=['date', 'subscribers', 'reviews'])\n",
    "results"
   ]
  },
  {
   "cell_type": "code",
   "execution_count": 60,
   "id": "ae776c3f-f5d7-414e-9817-b6006f391cf6",
   "metadata": {},
   "outputs": [
    {
     "data": {
      "text/html": [
       "<div>\n",
       "<style scoped>\n",
       "    .dataframe tbody tr th:only-of-type {\n",
       "        vertical-align: middle;\n",
       "    }\n",
       "\n",
       "    .dataframe tbody tr th {\n",
       "        vertical-align: top;\n",
       "    }\n",
       "\n",
       "    .dataframe thead th {\n",
       "        text-align: right;\n",
       "    }\n",
       "</style>\n",
       "<table border=\"1\" class=\"dataframe\">\n",
       "  <thead>\n",
       "    <tr style=\"text-align: right;\">\n",
       "      <th></th>\n",
       "      <th>date</th>\n",
       "      <th>subscribers</th>\n",
       "      <th>reviews</th>\n",
       "    </tr>\n",
       "  </thead>\n",
       "  <tbody>\n",
       "    <tr>\n",
       "      <th>754</th>\n",
       "      <td>2021/2/8</td>\n",
       "      <td>10776</td>\n",
       "      <td>1826</td>\n",
       "    </tr>\n",
       "    <tr>\n",
       "      <th>755</th>\n",
       "      <td>2021/2/9</td>\n",
       "      <td>10796</td>\n",
       "      <td>1831</td>\n",
       "    </tr>\n",
       "    <tr>\n",
       "      <th>0</th>\n",
       "      <td>2024/7/27</td>\n",
       "      <td>22365</td>\n",
       "      <td>3738</td>\n",
       "    </tr>\n",
       "    <tr>\n",
       "      <th>0</th>\n",
       "      <td>2024/7/27</td>\n",
       "      <td>22365</td>\n",
       "      <td>3738</td>\n",
       "    </tr>\n",
       "    <tr>\n",
       "      <th>0</th>\n",
       "      <td>2024/7/27</td>\n",
       "      <td>22365</td>\n",
       "      <td>3738</td>\n",
       "    </tr>\n",
       "  </tbody>\n",
       "</table>\n",
       "</div>"
      ],
      "text/plain": [
       "          date  subscribers  reviews\n",
       "754   2021/2/8        10776     1826\n",
       "755   2021/2/9        10796     1831\n",
       "0    2024/7/27        22365     3738\n",
       "0    2024/7/27        22365     3738\n",
       "0    2024/7/27        22365     3738"
      ]
     },
     "execution_count": 60,
     "metadata": {},
     "output_type": "execute_result"
    }
   ],
   "source": [
    "df = pd.concat([df, results])\n",
    "df.tail()"
   ]
  },
  {
   "cell_type": "code",
   "execution_count": 61,
   "id": "b89a4abe-c87b-4d37-b425-570bff96f162",
   "metadata": {},
   "outputs": [],
   "source": [
    "df.to_csv('asetts/data.csv', index=False)"
   ]
  },
  {
   "cell_type": "code",
   "execution_count": 71,
   "id": "c8d9862d-d61a-4e76-917f-5e089b4e48f4",
   "metadata": {},
   "outputs": [],
   "source": [
    "# -udemyから情報を取ってくる関数（'get_udemy_info'）\n",
    "# -CSVに書き込む関数（'write_data'）"
   ]
  },
  {
   "cell_type": "code",
   "execution_count": 70,
   "id": "b82322b6-3234-4a5a-80da-80d5582cc85b",
   "metadata": {},
   "outputs": [],
   "source": [
    "def get_udemy_info():\n",
    "    url = 'https://scraping-for-beginner.herokuapp.com/udemy'\n",
    "    \n",
    "    r = requests.get(url)\n",
    "    soup = BeautifulSoup(r.text, 'html.parser')\n",
    "    \n",
    "    name = soup.select('.card-title')[0].string\n",
    "    n_subscribers = soup.select('.subscribers')[0].string\n",
    "    n_subscribers = int(n_subscribers.split('：')[1])\n",
    "    \n",
    "    n_reviews = soup.select('.reviews')[0].string\n",
    "    n_reviews = int(n_reviews.split('：')[1])\n",
    "    \n",
    "    results = {\n",
    "        'name': name,\n",
    "        'n_subscribers': n_subscribers,\n",
    "        'n_reviews': n_reviews\n",
    "    }\n",
    "    \n",
    "    return results"
   ]
  },
  {
   "cell_type": "code",
   "execution_count": 2,
   "id": "cd2c8c41-faf7-4866-8dda-3bc72ce692eb",
   "metadata": {},
   "outputs": [],
   "source": [
    "def write_data():\n",
    "    df = pd.read_csv('asetts/data.csv')\n",
    "    \n",
    "    # 新規のデータ\n",
    "    _results = get_udemy_info()\n",
    "    \n",
    "    # 書き込むデータ\n",
    "    date = datetime.datetime.today().strftime('%Y/%-m/%-d')\n",
    "    subscribers = _results['n_subscribers']\n",
    "    reviews = _results['n_reviews']\n",
    "    results = pd.DataFrame([[date, subscribers, reviews]], columns=['date', 'subscribers', 'reviews'])\n",
    "    \n",
    "    df = pd.concat([df, results])\n",
    "    df.to_csv('asetts/data.csv', index=False)"
   ]
  },
  {
   "cell_type": "code",
   "execution_count": 61,
   "id": "fa3e02c9-10f6-44a5-92f6-8f15f178297e",
   "metadata": {},
   "outputs": [],
   "source": []
  },
  {
   "cell_type": "code",
   "execution_count": 5,
   "id": "262e67b8-8b62-435f-9b12-9c2306c7308b",
   "metadata": {},
   "outputs": [],
   "source": []
  },
  {
   "cell_type": "code",
   "execution_count": 41,
   "id": "2d79b33d-9e03-45ca-b679-5929ccaf5690",
   "metadata": {},
   "outputs": [],
   "source": []
  },
  {
   "cell_type": "code",
   "execution_count": 42,
   "id": "d36c1be0-f34c-4cfb-9c47-c8637c900278",
   "metadata": {},
   "outputs": [],
   "source": []
  },
  {
   "cell_type": "code",
   "execution_count": null,
   "id": "06bf278f-d248-4e0e-b266-9331fa022b4f",
   "metadata": {},
   "outputs": [],
   "source": []
  }
 ],
 "metadata": {
  "kernelspec": {
   "display_name": "myvenv",
   "language": "python",
   "name": "myvenv"
  },
  "language_info": {
   "codemirror_mode": {
    "name": "ipython",
    "version": 3
   },
   "file_extension": ".py",
   "mimetype": "text/x-python",
   "name": "python",
   "nbconvert_exporter": "python",
   "pygments_lexer": "ipython3",
   "version": "3.12.2"
  }
 },
 "nbformat": 4,
 "nbformat_minor": 5
}
